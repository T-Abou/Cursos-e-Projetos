{
 "cells": [
  {
   "cell_type": "code",
   "execution_count": 7,
   "id": "6cec45f1-de95-428f-a09d-7339dc26a841",
   "metadata": {},
   "outputs": [
    {
     "name": "stdout",
     "output_type": "stream",
     "text": [
      "tiago Abou 18\n"
     ]
    }
   ],
   "source": [
    "print('tiago Abou',18)"
   ]
  },
  {
   "cell_type": "code",
   "execution_count": 12,
   "id": "3725c6e7-87cd-43af-8506-bc49db08753d",
   "metadata": {},
   "outputs": [
    {
     "name": "stdout",
     "output_type": "stream",
     "text": [
      "tiago abou\n"
     ]
    }
   ],
   "source": [
    "nome = \"tiago\"\n",
    "sobrenome = \"abou\"\n",
    "print(nome,sobrenome)"
   ]
  },
  {
   "cell_type": "code",
   "execution_count": 13,
   "id": "01a31951-3b5d-4021-a036-121588ab5770",
   "metadata": {},
   "outputs": [
    {
     "name": "stdout",
     "output_type": "stream",
     "text": [
      "t\n",
      "i\n",
      "a\n",
      "g\n",
      "o\n"
     ]
    }
   ],
   "source": [
    "print(\"t\")\n",
    "print(\"i\")\n",
    "print(\"a\")\n",
    "print(\"g\")\n",
    "print(\"o\")"
   ]
  },
  {
   "cell_type": "code",
   "execution_count": 14,
   "id": "c3fa4380-442b-42a9-935f-bddb72484f75",
   "metadata": {},
   "outputs": [
    {
     "name": "stdout",
     "output_type": "stream",
     "text": [
      "14 Março 2006\n"
     ]
    }
   ],
   "source": [
    "print(14,\"Março\",2006)"
   ]
  },
  {
   "cell_type": "code",
   "execution_count": 15,
   "id": "fa4222d4-cece-43d4-b117-8703791a5959",
   "metadata": {},
   "outputs": [],
   "source": [
    "#Teste de comentario"
   ]
  },
  {
   "cell_type": "code",
   "execution_count": 20,
   "id": "8926adbc-2f12-45b0-8b22-e0b4d110ffc0",
   "metadata": {},
   "outputs": [],
   "source": [
    "# Variaveis"
   ]
  },
  {
   "cell_type": "code",
   "execution_count": 21,
   "id": "919f9720-5ea5-4517-803c-1d42a8a79424",
   "metadata": {},
   "outputs": [],
   "source": [
    "idade = 5"
   ]
  },
  {
   "cell_type": "code",
   "execution_count": 24,
   "id": "407e49a0-88d6-4000-b3a2-856a7ab12198",
   "metadata": {},
   "outputs": [
    {
     "name": "stdout",
     "output_type": "stream",
     "text": [
      "5\n"
     ]
    }
   ],
   "source": [
    "print(idade)"
   ]
  },
  {
   "cell_type": "code",
   "execution_count": 26,
   "id": "c64cc1d6-c1c4-417a-962a-da973139ee6f",
   "metadata": {},
   "outputs": [
    {
     "name": "stdout",
     "output_type": "stream",
     "text": [
      "tiago\n",
      "abou\n"
     ]
    }
   ],
   "source": [
    "print(nome)\n",
    "print(sobrenome)"
   ]
  },
  {
   "cell_type": "code",
   "execution_count": 29,
   "id": "7948f519-5c72-4ce7-925e-e86913fd2667",
   "metadata": {},
   "outputs": [],
   "source": [
    "# int = inteiro = 3,100,-5 etc...\n",
    "# float = decimais = 3,14, 0,333, 2,86\n",
    "# string =  texto/palavras = ola, tiago, ou conjuntos de numeros entre \"\" ex: \"1234\"\n",
    "# bool = true/false"
   ]
  },
  {
   "cell_type": "code",
   "execution_count": 31,
   "id": "c16aad10-4403-4ea8-80fd-a616e477b217",
   "metadata": {},
   "outputs": [
    {
     "data": {
      "text/plain": [
       "str"
      ]
     },
     "execution_count": 31,
     "metadata": {},
     "output_type": "execute_result"
    }
   ],
   "source": [
    "type(nome)"
   ]
  },
  {
   "cell_type": "code",
   "execution_count": 32,
   "id": "b1824cdf-856c-4fe1-9aeb-bcb7219cbe21",
   "metadata": {},
   "outputs": [
    {
     "data": {
      "text/plain": [
       "int"
      ]
     },
     "execution_count": 32,
     "metadata": {},
     "output_type": "execute_result"
    }
   ],
   "source": [
    "type(idade)"
   ]
  },
  {
   "cell_type": "code",
   "execution_count": 33,
   "id": "82f50fd6-0e67-4081-a192-3f80a05d38b4",
   "metadata": {},
   "outputs": [
    {
     "data": {
      "text/plain": [
       "float"
      ]
     },
     "execution_count": 33,
     "metadata": {},
     "output_type": "execute_result"
    }
   ],
   "source": [
    "f = 9.8\n",
    "type(f)"
   ]
  },
  {
   "cell_type": "code",
   "execution_count": 36,
   "id": "0945ac58-e743-44fb-8b3f-59357f48527c",
   "metadata": {},
   "outputs": [
    {
     "name": "stdout",
     "output_type": "stream",
     "text": [
      "('Fabricio Daniel', 15, 8.45, True)\n"
     ]
    }
   ],
   "source": [
    "nome_aluno =  \"Fabricio Daniel\"\n",
    "idade_aluno = 15\n",
    "media_aluno = 8.45\n",
    "situacao_aprovado = True\n",
    "tudo = (nome_aluno, idade_aluno, media_aluno, situacao_aprovado)\n",
    "print(tudo)"
   ]
  },
  {
   "cell_type": "code",
   "execution_count": 37,
   "id": "9d6fa255-43c3-40a6-902c-aea8e0f1ab16",
   "metadata": {},
   "outputs": [
    {
     "data": {
      "text/plain": [
       "tuple"
      ]
     },
     "execution_count": 37,
     "metadata": {},
     "output_type": "execute_result"
    }
   ],
   "source": [
    "type(tudo)"
   ]
  },
  {
   "cell_type": "code",
   "execution_count": 38,
   "id": "3daa8bb1-d817-436f-bd1f-655467756a13",
   "metadata": {},
   "outputs": [],
   "source": [
    "q_seguranca = 5\n",
    "s_seguranca = 3000\n",
    "\n",
    "q_docente = 16\n",
    "s_docente = 6000\n",
    "\n",
    "q_diretoria = 1\n",
    "s_diretoria = 12500"
   ]
  },
  {
   "cell_type": "code",
   "execution_count": 39,
   "id": "4e210347-85c0-4b88-a3c6-28dc68063768",
   "metadata": {},
   "outputs": [
    {
     "data": {
      "text/plain": [
       "22"
      ]
     },
     "execution_count": 39,
     "metadata": {},
     "output_type": "execute_result"
    }
   ],
   "source": [
    "total_empregados = q_seguranca + q_docente + q_diretoria\n",
    "total_empregados"
   ]
  },
  {
   "cell_type": "code",
   "execution_count": 41,
   "id": "780766b0-8167-4855-8d8b-6058b92204a2",
   "metadata": {},
   "outputs": [
    {
     "data": {
      "text/plain": [
       "9500"
      ]
     },
     "execution_count": 41,
     "metadata": {},
     "output_type": "execute_result"
    }
   ],
   "source": [
    "diferenca_salario = s_diretoria - s_seguranca\n",
    "diferenca_salario"
   ]
  },
  {
   "cell_type": "code",
   "execution_count": 43,
   "id": "00b590f5-6ae2-49bb-b5f2-94e39dc5894e",
   "metadata": {},
   "outputs": [
    {
     "data": {
      "text/plain": [
       "5613.636363636364"
      ]
     },
     "execution_count": 43,
     "metadata": {},
     "output_type": "execute_result"
    }
   ],
   "source": [
    "media = (q_seguranca*s_seguranca + q_docente*s_docente + q_diretoria*s_diretoria)/(total_empregados)\n",
    "media"
   ]
  },
  {
   "cell_type": "code",
   "execution_count": 3,
   "id": "4b067250-7b39-427f-952d-000ad3d9fb50",
   "metadata": {},
   "outputs": [
    {
     "data": {
      "text/plain": [
       "16"
      ]
     },
     "execution_count": 3,
     "metadata": {},
     "output_type": "execute_result"
    }
   ],
   "source": [
    "# Operadores\n",
    "2**4 #potencia"
   ]
  },
  {
   "cell_type": "code",
   "execution_count": 6,
   "id": "2dca2b7c-b062-4395-8570-7a3f83431290",
   "metadata": {},
   "outputs": [
    {
     "data": {
      "text/plain": [
       "1"
      ]
     },
     "execution_count": 6,
     "metadata": {},
     "output_type": "execute_result"
    }
   ],
   "source": [
    "# Operador %, divide e mostra o resto\n",
    "7%2"
   ]
  },
  {
   "cell_type": "code",
   "execution_count": 7,
   "id": "e2b252b3-4f5e-48e9-a7ab-a3321082a017",
   "metadata": {},
   "outputs": [
    {
     "data": {
      "text/plain": [
       "3.5"
      ]
     },
     "execution_count": 7,
     "metadata": {},
     "output_type": "execute_result"
    }
   ],
   "source": [
    "# operador /\n",
    "7/2"
   ]
  },
  {
   "cell_type": "code",
   "execution_count": 9,
   "id": "c99d00da-b256-4919-9b28-297633b36084",
   "metadata": {},
   "outputs": [
    {
     "data": {
      "text/plain": [
       "4"
      ]
     },
     "execution_count": 9,
     "metadata": {},
     "output_type": "execute_result"
    }
   ],
   "source": [
    "# // mostra o valor inteiro da divisão, sem a casa decimal em caso de divisão nao inteira\n",
    "9//2"
   ]
  },
  {
   "cell_type": "code",
   "execution_count": 10,
   "id": "0b40e661-6ccd-4cef-b317-358135a49d3a",
   "metadata": {},
   "outputs": [],
   "source": [
    "s1 = 'alura'\n",
    "s2 = \"alura\""
   ]
  },
  {
   "cell_type": "code",
   "execution_count": 11,
   "id": "4d81cb05-65ce-4111-8c00-74054dc21b60",
   "metadata": {},
   "outputs": [
    {
     "name": "stdout",
     "output_type": "stream",
     "text": [
      "<class 'str'> <class 'str'>\n"
     ]
    }
   ],
   "source": [
    "print(type(s1),type(s2))"
   ]
  },
  {
   "cell_type": "code",
   "execution_count": 13,
   "id": "07e3b95a-10ce-4b23-9e25-f5308242d5d7",
   "metadata": {},
   "outputs": [
    {
     "data": {
      "text/plain": [
       "'Tiago Abou Hamia França'"
      ]
     },
     "execution_count": 13,
     "metadata": {},
     "output_type": "execute_result"
    }
   ],
   "source": [
    "texto = 'Tiago Abou Hamia França'\n",
    "texto"
   ]
  },
  {
   "cell_type": "code",
   "execution_count": 15,
   "id": "2a677e25-ba36-4f4b-9fd7-e295f2cece4f",
   "metadata": {},
   "outputs": [
    {
     "data": {
      "text/plain": [
       "'TIAGO ABOU HAMIA FRANÇA'"
      ]
     },
     "execution_count": 15,
     "metadata": {},
     "output_type": "execute_result"
    }
   ],
   "source": [
    "#Escreve a string em maisculo\n",
    "str.upper(texto) # ou texto.upper"
   ]
  },
  {
   "cell_type": "code",
   "execution_count": 17,
   "id": "9c339676-2ad8-496d-8d27-492e6bf13d0d",
   "metadata": {},
   "outputs": [
    {
     "data": {
      "text/plain": [
       "'tiago abou hamia frança'"
      ]
     },
     "execution_count": 17,
     "metadata": {},
     "output_type": "execute_result"
    }
   ],
   "source": [
    "#escreve a string em minusculas\n",
    "texto.lower()"
   ]
  },
  {
   "cell_type": "code",
   "execution_count": 19,
   "id": "9e2f0077-d2ab-4b3d-93eb-2e093ebda2bc",
   "metadata": {},
   "outputs": [
    {
     "data": {
      "text/plain": [
       "'Tiago Abou Hamia França'"
      ]
     },
     "execution_count": 19,
     "metadata": {},
     "output_type": "execute_result"
    }
   ],
   "source": [
    "# remove os espaços entre as palavras da string\n",
    "texto.strip()"
   ]
  },
  {
   "cell_type": "code",
   "execution_count": 22,
   "id": "46d354da-dc6b-45a0-a83b-b572c042a039",
   "metadata": {},
   "outputs": [
    {
     "data": {
      "text/plain": [
       "'Tiago Abou Hamia França'"
      ]
     },
     "execution_count": 22,
     "metadata": {},
     "output_type": "execute_result"
    }
   ],
   "source": [
    "texto_errado = \"Tiago Abou Hamya França\"\n",
    "texto_errado.replace('y','i')"
   ]
  },
  {
   "cell_type": "code",
   "execution_count": 23,
   "id": "34d31b7d-67bc-4a9d-a60d-5177ee58ca14",
   "metadata": {},
   "outputs": [
    {
     "name": "stdin",
     "output_type": "stream",
     "text": [
      "qual seu nome? Jonas\n"
     ]
    }
   ],
   "source": [
    "nome_input = input(\"qual seu nome?\")"
   ]
  },
  {
   "cell_type": "code",
   "execution_count": 24,
   "id": "afaab5d0-275a-44d4-a693-60dd9a000b97",
   "metadata": {},
   "outputs": [
    {
     "data": {
      "text/plain": [
       "'Jonas'"
      ]
     },
     "execution_count": 24,
     "metadata": {},
     "output_type": "execute_result"
    }
   ],
   "source": [
    "nome_input"
   ]
  },
  {
   "cell_type": "code",
   "execution_count": 1,
   "id": "8463324b-0637-4f6f-a94f-2a70f0405253",
   "metadata": {},
   "outputs": [],
   "source": [
    "# Estrutura condicionais "
   ]
  },
  {
   "cell_type": "code",
   "execution_count": 3,
   "id": "b739204c-3738-4fad-bbec-77910bdbe229",
   "metadata": {},
   "outputs": [
    {
     "name": "stdout",
     "output_type": "stream",
     "text": [
      "condição verdadeira\n"
     ]
    }
   ],
   "source": [
    "if 2<7:\n",
    "    print(\"condição verdadeira\")"
   ]
  },
  {
   "cell_type": "code",
   "execution_count": 5,
   "id": "b43ccf98-e172-4eed-a284-f53015ce0fc6",
   "metadata": {},
   "outputs": [
    {
     "name": "stdout",
     "output_type": "stream",
     "text": [
      "condição falsa\n"
     ]
    }
   ],
   "source": [
    "if 2>7:\n",
    "    print(\"condição verdadeira\")\n",
    "else:\n",
    "    print(\"condição falsa\")"
   ]
  },
  {
   "cell_type": "code",
   "execution_count": 8,
   "id": "fcae9676-2a8c-48f7-81cf-3c0bf4a95b38",
   "metadata": {},
   "outputs": [
    {
     "name": "stdin",
     "output_type": "stream",
     "text": [
      "Qual sua idade, Maria 15\n",
      "Qual sua idade, Beatriz 18\n"
     ]
    },
    {
     "name": "stdout",
     "output_type": "stream",
     "text": [
      "Beatriz é mais velha que Maria\n"
     ]
    }
   ],
   "source": [
    "idade_maria = int(input(\"Qual sua idade, Maria\"))\n",
    "idade_beatriz = int(input(\"Qual sua idade, Beatriz\"))\n",
    "if idade_maria>idade_beatriz:\n",
    "    print(\"Maria é mais velha que Beatriz\")\n",
    "else:\n",
    "    print(\"Beatriz é mais velha que Maria\")"
   ]
  },
  {
   "cell_type": "code",
   "execution_count": 26,
   "id": "6ad877c1-f9e1-4900-b1a3-2ec7e892066e",
   "metadata": {},
   "outputs": [
    {
     "name": "stdin",
     "output_type": "stream",
     "text": [
      "Qual sua média? 2\n"
     ]
    },
    {
     "name": "stdout",
     "output_type": "stream",
     "text": [
      "Reprovado\n"
     ]
    }
   ],
   "source": [
    "media = float(input(\"Qual sua média?\"))\n",
    "if media >= 6:\n",
    "    print(\"Aprovado\")\n",
    "if 5.9 >= media >= 4:\n",
    "    print(\"Recuperação\")\n",
    "if media < 4:\n",
    "    print(\"Reprovado\")"
   ]
  },
  {
   "cell_type": "code",
   "execution_count": 27,
   "id": "5ec5135d-a610-4a48-8b2a-f7143473fcc5",
   "metadata": {},
   "outputs": [
    {
     "name": "stdin",
     "output_type": "stream",
     "text": [
      "Qual sua média? 5\n"
     ]
    },
    {
     "name": "stdout",
     "output_type": "stream",
     "text": [
      "Recuperação\n"
     ]
    }
   ],
   "source": [
    "#USANDO ELIF\n",
    "media1 = float(input(\"Qual sua média?\"))\n",
    "if media >= 6:\n",
    "    print(\"Aprovado\")\n",
    "elif 5.9 >= media1 >= 4:\n",
    "    print(\"Recuperação\")\n",
    "else:\n",
    "    print(\"Reprovado\")"
   ]
  },
  {
   "cell_type": "code",
   "execution_count": 28,
   "id": "ce45c090-be46-4c1d-861c-38c802df2937",
   "metadata": {},
   "outputs": [],
   "source": [
    "# OPERADORES LOGICOS"
   ]
  },
  {
   "cell_type": "code",
   "execution_count": 29,
   "id": "3b0481f1-6dc7-4083-abc5-ed21fc5982d8",
   "metadata": {},
   "outputs": [],
   "source": [
    "t1 = t2 = True\n",
    "f1 = f2 = False"
   ]
  },
  {
   "cell_type": "code",
   "execution_count": 32,
   "id": "58d914ae-80b3-4821-b97e-63344e4597e5",
   "metadata": {},
   "outputs": [
    {
     "name": "stdout",
     "output_type": "stream",
     "text": [
      "expressão verdadeira\n"
     ]
    }
   ],
   "source": [
    "if t1 and t2:  # AND só funciona quando as entradas são verdadeiras\n",
    "    print(\"expressão verdadeira\")\n",
    "else:\n",
    "    print(\"expressão falsa\")"
   ]
  },
  {
   "cell_type": "code",
   "execution_count": 35,
   "id": "6f81442a-904e-4b1c-b9b0-be9426bbe4f4",
   "metadata": {},
   "outputs": [
    {
     "name": "stdout",
     "output_type": "stream",
     "text": [
      "expressão falsa\n"
     ]
    }
   ],
   "source": [
    "if f1 or f2: #Só da resultado falso se as duas entradas forem falsas, se 1 ou as 2 entradas forem verdadeiras, ele imprime \"expressao verdadeira\"\n",
    "    print(\"expressão verdadeira\")\n",
    "else:\n",
    "    print(\"expressão falsa\")"
   ]
  },
  {
   "cell_type": "code",
   "execution_count": 37,
   "id": "7ffc3ea1-5e91-4edc-9f6c-0ac3338eece2",
   "metadata": {},
   "outputs": [
    {
     "name": "stdout",
     "output_type": "stream",
     "text": [
      "expressão verdadeira\n"
     ]
    }
   ],
   "source": [
    "if not f2 :  #NOT inverte, true vira falso e false vira true\n",
    "    print(\"expressão verdadeira\")\n",
    "else:\n",
    "    print(\"expressão falsa\")"
   ]
  },
  {
   "cell_type": "code",
   "execution_count": 38,
   "id": "762c788e-2de2-4a04-8da4-d6e25ec50df7",
   "metadata": {},
   "outputs": [
    {
     "data": {
      "text/plain": [
       "'José da Silva, Maria Oliveira, Pedro Martins, Ana Souza, Carlos Rodrigues, Juliana Santos, Bruno Gomes, Beatriz Costa, Felipe Almeida, Mariana Fernandes, João Pinto, Luísa Nascimento, Gabriel Souza, Manuela Santos, Thiago Oliveira, Sofia Ferreira, Rafael Albuquerque, Isabella Gomes, Bruno Costa, Maria Martins, Rafaela Souza, Matheus Fernandes, Luísa Almeida, Beatriz Pinto, Mariana Rodrigues, Gabriel Nascimento, João Ferreira, Maria Albuquerque, Felipe Oliveira'"
      ]
     },
     "execution_count": 38,
     "metadata": {},
     "output_type": "execute_result"
    }
   ],
   "source": [
    "lista = 'José da Silva, Maria Oliveira, Pedro Martins, Ana Souza, Carlos Rodrigues, Juliana Santos, Bruno Gomes, Beatriz Costa, Felipe Almeida, Mariana Fernandes, João Pinto, Luísa Nascimento, Gabriel Souza, Manuela Santos, Thiago Oliveira, Sofia Ferreira, Rafael Albuquerque, Isabella Gomes, Bruno Costa, Maria Martins, Rafaela Souza, Matheus Fernandes, Luísa Almeida, Beatriz Pinto, Mariana Rodrigues, Gabriel Nascimento, João Ferreira, Maria Albuquerque, Felipe Oliveira'\n",
    "lista"
   ]
  },
  {
   "cell_type": "code",
   "execution_count": 39,
   "id": "cb838396-8b2d-4422-8569-53648397ee53",
   "metadata": {},
   "outputs": [],
   "source": [
    "nome1 = \"Mariana Rodrigues\"\n",
    "nome2 = \"Marcelo Nogueira\""
   ]
  },
  {
   "cell_type": "code",
   "execution_count": 45,
   "id": "8347693f-eff0-4713-88e6-127c238e1a31",
   "metadata": {},
   "outputs": [
    {
     "name": "stdout",
     "output_type": "stream",
     "text": [
      "Mariana Rodrigues está na lista\n"
     ]
    }
   ],
   "source": [
    "if nome1 in lista:\n",
    "    print(f'{nome1} está na lista')\n",
    "else:\n",
    "    print(f'{nome1} não está na lista')"
   ]
  },
  {
   "cell_type": "code",
   "execution_count": 46,
   "id": "09630498-7545-4583-a52b-6ba6b0682fd9",
   "metadata": {},
   "outputs": [
    {
     "name": "stdout",
     "output_type": "stream",
     "text": [
      "Marcelo Nogueira não está na lista\n"
     ]
    }
   ],
   "source": [
    "if nome2 in lista:\n",
    "    print(f'{nome2} está na lista')\n",
    "else:\n",
    "    print(f'{nome2} não está na lista')"
   ]
  },
  {
   "cell_type": "code",
   "execution_count": 6,
   "id": "5dee938e-3b6a-4297-a97f-666f0e13a6be",
   "metadata": {},
   "outputs": [],
   "source": [
    "# ESTRUTURA DE REPETIÇÃO"
   ]
  },
  {
   "cell_type": "code",
   "execution_count": 7,
   "id": "2f48f57e-768f-4c14-b10b-bcbd9ace2996",
   "metadata": {},
   "outputs": [
    {
     "name": "stdin",
     "output_type": "stream",
     "text": [
      "Digite sua 1º nota:  1\n",
      "Digite sua 2º nota:  1\n"
     ]
    },
    {
     "name": "stdout",
     "output_type": "stream",
     "text": [
      "Média 1.0\n"
     ]
    },
    {
     "name": "stdin",
     "output_type": "stream",
     "text": [
      "Digite sua 1º nota:  1\n",
      "Digite sua 2º nota:  1\n"
     ]
    },
    {
     "name": "stdout",
     "output_type": "stream",
     "text": [
      "Média 1.0\n"
     ]
    },
    {
     "name": "stdin",
     "output_type": "stream",
     "text": [
      "Digite sua 1º nota:  1\n",
      "Digite sua 2º nota:  1\n"
     ]
    },
    {
     "name": "stdout",
     "output_type": "stream",
     "text": [
      "Média 1.0\n"
     ]
    }
   ],
   "source": [
    "nota1 = float(input('Digite sua 1º nota: '))\n",
    "nota2 = float(input('Digite sua 2º nota: '))\n",
    "print(f'Média {(nota1+nota2)/2}')\n",
    "\n",
    "nota1 = float(input('Digite sua 1º nota: '))\n",
    "nota2 = float(input('Digite sua 2º nota: '))\n",
    "print(f'Média {(nota1+nota2)/2}')\n",
    "\n",
    "nota1 = float(input('Digite sua 1º nota: '))\n",
    "nota2 = float(input('Digite sua 2º nota: '))\n",
    "print(f'Média {(nota1+nota2)/2}')"
   ]
  },
  {
   "cell_type": "code",
   "execution_count": 8,
   "id": "986e5848-de11-44f4-89c5-7bd08a740495",
   "metadata": {},
   "outputs": [],
   "source": [
    "# WHILE"
   ]
  },
  {
   "cell_type": "code",
   "execution_count": 12,
   "id": "a3af685b-e73d-4788-8808-c380caf3e03a",
   "metadata": {},
   "outputs": [
    {
     "name": "stdout",
     "output_type": "stream",
     "text": [
      "1\n",
      "2\n",
      "3\n",
      "4\n",
      "5\n",
      "6\n",
      "7\n",
      "8\n",
      "9\n",
      "10\n"
     ]
    }
   ],
   "source": [
    "contador = 1 \n",
    "while contador <=10:\n",
    "    print(contador)\n",
    "    contador +=1"
   ]
  },
  {
   "cell_type": "code",
   "execution_count": 13,
   "id": "7b60e30f-7f9f-45a4-b1e8-ffaf26a5f900",
   "metadata": {},
   "outputs": [
    {
     "name": "stdin",
     "output_type": "stream",
     "text": [
      "Digite sua 1º nota:  5\n",
      "Digite sua 2º nota:  6\n"
     ]
    },
    {
     "name": "stdout",
     "output_type": "stream",
     "text": [
      "Média 5.5\n"
     ]
    },
    {
     "name": "stdin",
     "output_type": "stream",
     "text": [
      "Digite sua 1º nota:  3\n",
      "Digite sua 2º nota:  7\n"
     ]
    },
    {
     "name": "stdout",
     "output_type": "stream",
     "text": [
      "Média 5.0\n"
     ]
    },
    {
     "name": "stdin",
     "output_type": "stream",
     "text": [
      "Digite sua 1º nota:  8\n",
      "Digite sua 2º nota:  9\n"
     ]
    },
    {
     "name": "stdout",
     "output_type": "stream",
     "text": [
      "Média 8.5\n"
     ]
    }
   ],
   "source": [
    "contador = 1\n",
    "while contador <=3:\n",
    "    nota1 = float(input('Digite sua 1º nota: '))\n",
    "    nota2 = float(input('Digite sua 2º nota: '))\n",
    "    \n",
    "    print(f'Média {(nota1+nota2)/2}')\n",
    "    contador+=1"
   ]
  },
  {
   "cell_type": "code",
   "execution_count": 14,
   "id": "e903af28-0eda-4a76-94df-cd1420fb855b",
   "metadata": {},
   "outputs": [],
   "source": [
    "# FOR"
   ]
  },
  {
   "cell_type": "code",
   "execution_count": 16,
   "id": "1b589caf-0568-4c14-b3e5-efc42fffc25e",
   "metadata": {},
   "outputs": [
    {
     "name": "stdout",
     "output_type": "stream",
     "text": [
      "1\n",
      "2\n",
      "3\n",
      "4\n",
      "5\n",
      "6\n",
      "7\n",
      "8\n",
      "9\n",
      "10\n"
     ]
    }
   ],
   "source": [
    "for contador in range(1,11):\n",
    "    print (contador)"
   ]
  },
  {
   "cell_type": "code",
   "execution_count": 17,
   "id": "1d0393ba-262f-4c67-a94d-619c41b7f3ef",
   "metadata": {},
   "outputs": [
    {
     "name": "stdin",
     "output_type": "stream",
     "text": [
      "Digite sua 1º nota:  6\n",
      "Digite sua 2º nota:  9\n"
     ]
    },
    {
     "name": "stdout",
     "output_type": "stream",
     "text": [
      "Média 7.5\n"
     ]
    },
    {
     "name": "stdin",
     "output_type": "stream",
     "text": [
      "Digite sua 1º nota:  10\n",
      "Digite sua 2º nota:  6\n"
     ]
    },
    {
     "name": "stdout",
     "output_type": "stream",
     "text": [
      "Média 8.0\n"
     ]
    },
    {
     "name": "stdin",
     "output_type": "stream",
     "text": [
      "Digite sua 1º nota:  7\n",
      "Digite sua 2º nota:  3\n"
     ]
    },
    {
     "name": "stdout",
     "output_type": "stream",
     "text": [
      "Média 5.0\n"
     ]
    }
   ],
   "source": [
    "for contador in range(1,4):\n",
    "    nota1 = float(input('Digite sua 1º nota: '))\n",
    "    nota2 = float(input('Digite sua 2º nota: '))\n",
    "    \n",
    "    print(f'Média {(nota1+nota2)/2}')"
   ]
  },
  {
   "cell_type": "code",
   "execution_count": 18,
   "id": "373a1e4a-b849-480b-9bfb-f2ba1fee4bdb",
   "metadata": {},
   "outputs": [
    {
     "name": "stdin",
     "output_type": "stream",
     "text": [
      "Digite a quantidade de imóveis no ano 2017:  67\n",
      "Digite a quantidade de imóveis no ano 2018:  13\n",
      "Digite a quantidade de imóveis no ano 2019:  6\n",
      "Digite a quantidade de imóveis no ano 2020:  75\n",
      "Digite a quantidade de imóveis no ano 2021:  23\n",
      "Digite a quantidade de imóveis no ano 2022:  8\n"
     ]
    },
    {
     "name": "stdout",
     "output_type": "stream",
     "text": [
      "Total de imóveis construídos: 192.0 imóveis\n"
     ]
    }
   ],
   "source": [
    "total_imoveis = 0\n",
    "\n",
    "for ano in range(2017,2023):\n",
    "  quantidade_imoveis = float(input(f'Digite a quantidade de imóveis no ano {ano}: '))\n",
    "  total_imoveis += quantidade_imoveis\n",
    "\n",
    "print(f'Total de imóveis construídos: {total_imoveis} imóveis')"
   ]
  },
  {
   "cell_type": "code",
   "execution_count": 19,
   "id": "7dbce47e-c78e-4919-a1ed-d1bd220aa8b1",
   "metadata": {},
   "outputs": [
    {
     "name": "stdout",
     "output_type": "stream",
     "text": [
      "1\n",
      "2\n",
      "3\n",
      "5\n"
     ]
    }
   ],
   "source": [
    "for i in range(1,6):\n",
    "    if i == 4:\n",
    "        continue\n",
    "    print(i)"
   ]
  },
  {
   "cell_type": "code",
   "execution_count": 32,
   "id": "dcd4282a-e635-4625-a1b4-978f4ba944c6",
   "metadata": {},
   "outputs": [
    {
     "name": "stdin",
     "output_type": "stream",
     "text": [
      "escolha um número 7\n",
      "escolha o segundo número 7\n"
     ]
    },
    {
     "name": "stdout",
     "output_type": "stream",
     "text": [
      "os números são iguais\n"
     ]
    }
   ],
   "source": [
    "num1 = int(input(\"escolha um número\"))\n",
    "num2 = int(input(\"escolha o segundo número\"))\n",
    "\n",
    "if num1 < num2:\n",
    "    for i in range(num1 +1,num2):\n",
    "        print(i)\n",
    "\n",
    "elif num1 > num2:\n",
    "    for i in range (num2 + 1, num1):\n",
    "        print(i)\n",
    "else:\n",
    "    print(\"os números são iguais\")\n",
    "\n"
   ]
  },
  {
   "cell_type": "code",
   "execution_count": null,
   "id": "1dd5d337-1061-43b7-908f-7458d33f6701",
   "metadata": {},
   "outputs": [],
   "source": [
    "\n",
    "idade = int(input('Informe a idade (ou um número negativo para encerrar): '))\n",
    "\n",
    "\n",
    "contador_0_25 = 0 \n",
    "contador_26_50 = 0 \n",
    "contador_51_75 = 0 \n",
    "contador_76_100 = 0 \n",
    "\n",
    "while idade >= 0:\n",
    "    if idade >= 0 and idade <= 25:\n",
    "        contador_0_25 += 1\n",
    "    elif idade >= 26 and idade <= 50:\n",
    "        contador_26_50 += 1\n",
    "    elif idade >= 51 and idade <= 75:\n",
    "        contador_51_75 += 1\n",
    "    elif idade >= 76 and idade <= 100:\n",
    "        contador_76_100 += 1\n",
    "    \n",
    "    idade = int(input('Informe a idade (ou um número negativo para encerrar): '))\n",
    "\n",
    "# Mostramos os resultados\n",
    "print('Distribuição de idades:')\n",
    "print('[0-25]:', contador_0_25)\n",
    "print('[26-50]:', contador_26_50)\n",
    "print('[51-75]:', contador_51_75)\n",
    "print('[76-100]:', contador_76_100)"
   ]
  },
  {
   "cell_type": "code",
   "execution_count": 2,
   "id": "57589f30-807f-4349-8e7c-695cbbd085a1",
   "metadata": {},
   "outputs": [
    {
     "name": "stdin",
     "output_type": "stream",
     "text": [
      "Informe um número inteiro:  7\n"
     ]
    },
    {
     "name": "stdout",
     "output_type": "stream",
     "text": [
      "Fatorial de 7 é 5040\n"
     ]
    }
   ],
   "source": [
    "#FATORIAL\n",
    "\n",
    "\n",
    "num = int(input('Informe um número inteiro: '))\n",
    "\n",
    "fatorial = 1\n",
    "\n",
    "\n",
    "i = num\n",
    "while i > 0:\n",
    "    \n",
    "    fatorial *= i\n",
    "    i -= 1\n",
    "\n",
    "\n",
    "print(f'Fatorial de {num} é {fatorial}')"
   ]
  },
  {
   "cell_type": "code",
   "execution_count": 3,
   "id": "c3ffe19f-b535-4068-9f87-326300f302a4",
   "metadata": {},
   "outputs": [
    {
     "data": {
      "text/plain": [
       "['Fabricio Daniel', 9.5, 9.0, 8.0, True]"
      ]
     },
     "execution_count": 3,
     "metadata": {},
     "output_type": "execute_result"
    }
   ],
   "source": [
    "# LISTAS\n",
    "lista = ['Fabricio Daniel',9.5,9.0,8.0,True]\n",
    "lista"
   ]
  },
  {
   "cell_type": "code",
   "execution_count": 4,
   "id": "8dcf734d-a9f4-4097-869a-336b5c257283",
   "metadata": {},
   "outputs": [
    {
     "data": {
      "text/plain": [
       "8.0"
      ]
     },
     "execution_count": 4,
     "metadata": {},
     "output_type": "execute_result"
    }
   ],
   "source": [
    "lista[3]"
   ]
  },
  {
   "cell_type": "code",
   "execution_count": 5,
   "id": "1a215e2c-3b34-4ac1-a95e-92d86575e261",
   "metadata": {},
   "outputs": [],
   "source": [
    "lista[3] = 10"
   ]
  },
  {
   "cell_type": "code",
   "execution_count": 6,
   "id": "add27391-b070-45de-b1fe-6d2d8f456bde",
   "metadata": {},
   "outputs": [
    {
     "data": {
      "text/plain": [
       "['Fabricio Daniel', 9.5, 9.0, 10, True]"
      ]
     },
     "execution_count": 6,
     "metadata": {},
     "output_type": "execute_result"
    }
   ],
   "source": [
    "lista"
   ]
  },
  {
   "cell_type": "code",
   "execution_count": 8,
   "id": "5ad26913-77d9-49b5-8548-b6a7502900ad",
   "metadata": {},
   "outputs": [
    {
     "data": {
      "text/plain": [
       "9.5"
      ]
     },
     "execution_count": 8,
     "metadata": {},
     "output_type": "execute_result"
    }
   ],
   "source": [
    "media = (lista[1] + lista[2] + lista[3])/3\n",
    "media"
   ]
  },
  {
   "cell_type": "code",
   "execution_count": 10,
   "id": "c6c3a7a2-b05a-426d-8924-de8a502294ab",
   "metadata": {},
   "outputs": [],
   "source": [
    "misturas = ['Tintas: vermelho, azul e amarelo',\n",
    "            'Verde: mistura de azul e amarelo',\n",
    "            'Laranja: mistura de vermelho e amarelo',\n",
    "            'Roxo: mistura de vermelho e azul']\n",
    "unificador = '. '\n"
   ]
  },
  {
   "cell_type": "code",
   "execution_count": 11,
   "id": "9018fc5d-c1bd-459b-aaaf-10190db31fbf",
   "metadata": {},
   "outputs": [
    {
     "name": "stdout",
     "output_type": "stream",
     "text": [
      "Tintas: vermelho, azul e amarelo. Verde: mistura de azul e amarelo. Laranja: mistura de vermelho e amarelo. Roxo: mistura de vermelho e azul\n"
     ]
    }
   ],
   "source": [
    "string_misturas = unificador.join(misturas)\n",
    "print(string_misturas)"
   ]
  },
  {
   "cell_type": "code",
   "execution_count": 12,
   "id": "9d5cf288-fc5b-470f-b8e5-f124404020e6",
   "metadata": {},
   "outputs": [
    {
     "data": {
      "text/plain": [
       "5"
      ]
     },
     "execution_count": 12,
     "metadata": {},
     "output_type": "execute_result"
    }
   ],
   "source": [
    "len(lista)"
   ]
  },
  {
   "cell_type": "code",
   "execution_count": 13,
   "id": "a137b353-7bce-40a4-9cdf-2ba04e06ea51",
   "metadata": {},
   "outputs": [],
   "source": [
    "notas = lista[1:4]"
   ]
  },
  {
   "cell_type": "code",
   "execution_count": 14,
   "id": "1311336e-9e4f-4734-a4fa-f803dfa6c694",
   "metadata": {},
   "outputs": [
    {
     "data": {
      "text/plain": [
       "[9.5, 9.0, 10]"
      ]
     },
     "execution_count": 14,
     "metadata": {},
     "output_type": "execute_result"
    }
   ],
   "source": [
    "notas"
   ]
  },
  {
   "cell_type": "code",
   "execution_count": 15,
   "id": "6af572a5-f199-40ee-89fe-733ce707fde2",
   "metadata": {},
   "outputs": [
    {
     "data": {
      "text/plain": [
       "['Fabricio Daniel', 9.5, 9.0, 10, True, 9.5]"
      ]
     },
     "execution_count": 15,
     "metadata": {},
     "output_type": "execute_result"
    }
   ],
   "source": [
    "# ADD itens no final da lista\n",
    "lista.append(media)\n",
    "lista"
   ]
  },
  {
   "cell_type": "code",
   "execution_count": 16,
   "id": "ed3dfb3c-4f67-4b3f-bb3d-022c1d5fbbb3",
   "metadata": {},
   "outputs": [
    {
     "data": {
      "text/plain": [
       "['Fabricio Daniel', 9.5, 9.0, 10, True, 9.5, 10, 8, 9]"
      ]
     },
     "execution_count": 16,
     "metadata": {},
     "output_type": "execute_result"
    }
   ],
   "source": [
    "lista.extend([10,8,9])\n",
    "lista"
   ]
  },
  {
   "cell_type": "code",
   "execution_count": 17,
   "id": "47ede4c1-bd24-48d4-a01a-c8f703786ecb",
   "metadata": {},
   "outputs": [
    {
     "data": {
      "text/plain": [
       "['Fabricio Daniel', 9.5, 9.0, 10, True, 9.5, 10, 8, 9, [10, 8, 9]]"
      ]
     },
     "execution_count": 17,
     "metadata": {},
     "output_type": "execute_result"
    }
   ],
   "source": [
    "lista.append([10,8,9])\n",
    "lista"
   ]
  },
  {
   "cell_type": "code",
   "execution_count": 18,
   "id": "6272969f-49f2-4ee4-af7b-7930889160a7",
   "metadata": {},
   "outputs": [],
   "source": [
    "raca_caes = ['Labrador Retriever',\n",
    "             'Bulldog Francês',\n",
    "             'Pastor Alemão',\n",
    "             'Poodle']"
   ]
  },
  {
   "cell_type": "code",
   "execution_count": 19,
   "id": "05b43dd6-6aee-4169-af9c-b58fb0d1cb65",
   "metadata": {},
   "outputs": [
    {
     "data": {
      "text/plain": [
       "['Labrador Retriever',\n",
       " 'Golden Retriver',\n",
       " 'Bulldog Francês',\n",
       " 'Pastor Alemão',\n",
       " 'Poodle']"
      ]
     },
     "execution_count": 19,
     "metadata": {},
     "output_type": "execute_result"
    }
   ],
   "source": [
    "raca_caes.insert(1,'Golden Retriver')\n",
    "raca_caes"
   ]
  },
  {
   "cell_type": "code",
   "execution_count": 20,
   "id": "f95e8cc1-e107-4691-aa0b-29039f821670",
   "metadata": {},
   "outputs": [
    {
     "data": {
      "text/plain": [
       "['Labrador Retriever', 'Golden Retriver', 'Bulldog Francês', 'Pastor Alemão']"
      ]
     },
     "execution_count": 20,
     "metadata": {},
     "output_type": "execute_result"
    }
   ],
   "source": [
    "raca_caes.pop(4)\n",
    "raca_caes"
   ]
  },
  {
   "cell_type": "code",
   "execution_count": 21,
   "id": "1e2df876-167e-49ae-be62-d78c297db337",
   "metadata": {},
   "outputs": [
    {
     "data": {
      "text/plain": [
       "3"
      ]
     },
     "execution_count": 21,
     "metadata": {},
     "output_type": "execute_result"
    }
   ],
   "source": [
    "raca_caes.index('Pastor Alemão')\n"
   ]
  },
  {
   "cell_type": "code",
   "execution_count": 22,
   "id": "dd1a36fd-1090-4a2c-8002-2adb8aea7637",
   "metadata": {},
   "outputs": [
    {
     "data": {
      "text/plain": [
       "['Bulldog Francês', 'Golden Retriver', 'Labrador Retriever', 'Pastor Alemão']"
      ]
     },
     "execution_count": 22,
     "metadata": {},
     "output_type": "execute_result"
    }
   ],
   "source": [
    "raca_caes.sort() #Ordem alfabetica\n",
    "raca_caes"
   ]
  },
  {
   "cell_type": "code",
   "execution_count": 25,
   "id": "8fc02a36-b871-47c5-bb4f-5514be9c706e",
   "metadata": {},
   "outputs": [
    {
     "data": {
      "text/plain": [
       "{'chave_1': 1, 'chave_2': 2, 'chave_3': 3}"
      ]
     },
     "execution_count": 25,
     "metadata": {},
     "output_type": "execute_result"
    }
   ],
   "source": [
    "#DICIONARIOS\n",
    "dicionario = {'chave_1':1, \n",
    "              'chave_2':2, \n",
    "              'chave_3':3}\n",
    "dicionario"
   ]
  },
  {
   "cell_type": "code",
   "execution_count": 28,
   "id": "3b00a3a4-51ae-4c3d-9076-0c3da400f036",
   "metadata": {},
   "outputs": [
    {
     "data": {
      "text/plain": [
       "{'matricula': 2000168933,\n",
       " 'dia_cadastro': 25,\n",
       " 'mes_cadastro': 10,\n",
       " 'turma': '2E'}"
      ]
     },
     "execution_count": 28,
     "metadata": {},
     "output_type": "execute_result"
    }
   ],
   "source": [
    "cadastro = {'matricula': 2000168933,\n",
    "            'dia_cadastro': 25,\n",
    "            'mes_cadastro': 10,\n",
    "            'turma': '2E'}\n",
    "cadastro"
   ]
  },
  {
   "cell_type": "code",
   "execution_count": 29,
   "id": "7c39cb70-7fec-467c-9841-e64969319c63",
   "metadata": {},
   "outputs": [
    {
     "data": {
      "text/plain": [
       "2000168933"
      ]
     },
     "execution_count": 29,
     "metadata": {},
     "output_type": "execute_result"
    }
   ],
   "source": [
    "cadastro['matricula']"
   ]
  },
  {
   "cell_type": "code",
   "execution_count": 30,
   "id": "6a4af116-77e9-4b95-b0ff-68caf2fc7094",
   "metadata": {},
   "outputs": [
    {
     "data": {
      "text/plain": [
       "'2E'"
      ]
     },
     "execution_count": 30,
     "metadata": {},
     "output_type": "execute_result"
    }
   ],
   "source": [
    "cadastro['turma']"
   ]
  },
  {
   "cell_type": "code",
   "execution_count": 31,
   "id": "b44b8029-aba1-4161-9003-6b1236e06a6a",
   "metadata": {},
   "outputs": [
    {
     "data": {
      "text/plain": [
       "'2G'"
      ]
     },
     "execution_count": 31,
     "metadata": {},
     "output_type": "execute_result"
    }
   ],
   "source": [
    "cadastro['turma'] = '2G'\n",
    "cadastro['turma']"
   ]
  },
  {
   "cell_type": "code",
   "execution_count": 32,
   "id": "2d161093-fcfb-4ffd-aa33-38b42cec7e0a",
   "metadata": {},
   "outputs": [],
   "source": [
    "cadastro['modalidade'] = 'EAD'"
   ]
  },
  {
   "cell_type": "code",
   "execution_count": 33,
   "id": "7041916a-00ec-4d7d-bc10-2e1b34f6f697",
   "metadata": {},
   "outputs": [
    {
     "data": {
      "text/plain": [
       "{'matricula': 2000168933,\n",
       " 'dia_cadastro': 25,\n",
       " 'mes_cadastro': 10,\n",
       " 'turma': '2G',\n",
       " 'modalidade': 'EAD'}"
      ]
     },
     "execution_count": 33,
     "metadata": {},
     "output_type": "execute_result"
    }
   ],
   "source": [
    "cadastro"
   ]
  },
  {
   "cell_type": "code",
   "execution_count": 34,
   "id": "c654455d-f305-4abf-b906-836dfb035016",
   "metadata": {},
   "outputs": [
    {
     "data": {
      "text/plain": [
       "{'matricula': 2000168933,\n",
       " 'dia_cadastro': 25,\n",
       " 'mes_cadastro': 10,\n",
       " 'modalidade': 'EAD'}"
      ]
     },
     "execution_count": 34,
     "metadata": {},
     "output_type": "execute_result"
    }
   ],
   "source": [
    "cadastro.pop('turma')\n",
    "cadastro"
   ]
  },
  {
   "cell_type": "code",
   "execution_count": 35,
   "id": "0c1bbd51-8637-4ff7-bc35-7c2b10fca3c1",
   "metadata": {},
   "outputs": [
    {
     "data": {
      "text/plain": [
       "dict_items([('matricula', 2000168933), ('dia_cadastro', 25), ('mes_cadastro', 10), ('modalidade', 'EAD')])"
      ]
     },
     "execution_count": 35,
     "metadata": {},
     "output_type": "execute_result"
    }
   ],
   "source": [
    "cadastro.items()"
   ]
  },
  {
   "cell_type": "code",
   "execution_count": 37,
   "id": "48de815a-793e-4bad-8e28-edf2808ecf98",
   "metadata": {},
   "outputs": [
    {
     "data": {
      "text/plain": [
       "dict_keys(['matricula', 'dia_cadastro', 'mes_cadastro', 'modalidade'])"
      ]
     },
     "execution_count": 37,
     "metadata": {},
     "output_type": "execute_result"
    }
   ],
   "source": [
    "cadastro.keys()"
   ]
  },
  {
   "cell_type": "code",
   "execution_count": 38,
   "id": "4e4acc7b-bf7e-4aa1-8b5c-5f37525913c7",
   "metadata": {},
   "outputs": [
    {
     "data": {
      "text/plain": [
       "dict_values([2000168933, 25, 10, 'EAD'])"
      ]
     },
     "execution_count": 38,
     "metadata": {},
     "output_type": "execute_result"
    }
   ],
   "source": [
    "cadastro.values()"
   ]
  },
  {
   "cell_type": "code",
   "execution_count": 39,
   "id": "7ef82c24-fc59-4f6a-8371-910aeadce005",
   "metadata": {},
   "outputs": [
    {
     "name": "stdout",
     "output_type": "stream",
     "text": [
      "2000168933\n",
      "25\n",
      "10\n",
      "EAD\n"
     ]
    }
   ],
   "source": [
    "for chaves in cadastro.keys():\n",
    "    print(cadastro[chaves])"
   ]
  },
  {
   "cell_type": "code",
   "execution_count": 40,
   "id": "51ec828f-53b3-4284-a9ae-168d8b7701f0",
   "metadata": {},
   "outputs": [],
   "source": [
    "loja = {'nomes': ['televisão', 'celular', 'notebook', 'geladeira', 'fogão'],\n",
    "        'precos': [2000, 1500, 3500, 4000, 1500]}"
   ]
  },
  {
   "cell_type": "code",
   "execution_count": 41,
   "id": "b59c072c-f419-460e-863d-928affee3d9e",
   "metadata": {},
   "outputs": [
    {
     "name": "stdout",
     "output_type": "stream",
     "text": [
      "Chave: nomes\n",
      "Elementos:\n",
      "televisão\n",
      "celular\n",
      "notebook\n",
      "geladeira\n",
      "fogão\n",
      "Chave: precos\n",
      "Elementos:\n",
      "2000\n",
      "1500\n",
      "3500\n",
      "4000\n",
      "1500\n"
     ]
    }
   ],
   "source": [
    "for chave, elementos in loja.items():\n",
    "  print(f'Chave: {chave}\\nElementos:')\n",
    "  for dado in elementos:\n",
    "    print(dado)"
   ]
  },
  {
   "cell_type": "code",
   "execution_count": 45,
   "id": "a2730e26-3b7f-4451-9279-6ed83b2ea8f2",
   "metadata": {},
   "outputs": [
    {
     "data": {
      "text/plain": [
       "[2172.54,\n",
       " 3701.35,\n",
       " 3518.09,\n",
       " 3456.61,\n",
       " 3249.38,\n",
       " 2840.82,\n",
       " 3891.45,\n",
       " 3075.26,\n",
       " 2317.64,\n",
       " 3219.08]"
      ]
     },
     "execution_count": 45,
     "metadata": {},
     "output_type": "execute_result"
    }
   ],
   "source": [
    "listaProj = [2172.54, 3701.35, 3518.09, 3456.61, 3249.38, 2840.82, 3891.45, 3075.26, 2317.64, 3219.08]\n",
    "listaProj"
   ]
  },
  {
   "cell_type": "code",
   "execution_count": 47,
   "id": "f0f85d43-f99b-49a1-a79f-12086549fc3f",
   "metadata": {},
   "outputs": [],
   "source": [
    "denominador = len(listaProj)"
   ]
  },
  {
   "cell_type": "code",
   "execution_count": 48,
   "id": "220eb945-dd66-4deb-92fb-09feb0f464f9",
   "metadata": {},
   "outputs": [],
   "source": [
    "soma = sum(listaProj)"
   ]
  },
  {
   "cell_type": "code",
   "execution_count": 50,
   "id": "e07d4d10-926c-4464-b373-9a6860ba65f6",
   "metadata": {},
   "outputs": [
    {
     "data": {
      "text/plain": [
       "3144.222"
      ]
     },
     "execution_count": 50,
     "metadata": {},
     "output_type": "execute_result"
    }
   ],
   "source": [
    "media = soma/denominador\n",
    "media"
   ]
  },
  {
   "cell_type": "code",
   "execution_count": 51,
   "id": "ae1dd778-d2f2-4382-beb6-1db9be000820",
   "metadata": {},
   "outputs": [],
   "source": [
    "gastos = [2172.54, 3701.35, 3518.09, 3456.61, 3249.38, 2840.82, 3891.45, 3075.26, 2317.64, 3219.08]"
   ]
  },
  {
   "cell_type": "code",
   "execution_count": 55,
   "id": "d6237b3a-6732-464d-b6d1-53c9f3fc8308",
   "metadata": {},
   "outputs": [
    {
     "name": "stdout",
     "output_type": "stream",
     "text": [
      "7\n"
     ]
    }
   ],
   "source": [
    "contador_acima_3k = 0\n",
    "for gasto in gastos:\n",
    "    if gasto > 3000:\n",
    "        contador_acima_3k +=1\n",
    "\n",
    "print(contador_acima_3k)"
   ]
  },
  {
   "cell_type": "code",
   "execution_count": null,
   "id": "398b4237-04a4-489a-a530-a24ebeb0b107",
   "metadata": {},
   "outputs": [],
   "source": []
  }
 ],
 "metadata": {
  "kernelspec": {
   "display_name": "Python [conda env:base] *",
   "language": "python",
   "name": "conda-base-py"
  },
  "language_info": {
   "codemirror_mode": {
    "name": "ipython",
    "version": 3
   },
   "file_extension": ".py",
   "mimetype": "text/x-python",
   "name": "python",
   "nbconvert_exporter": "python",
   "pygments_lexer": "ipython3",
   "version": "3.12.7"
  }
 },
 "nbformat": 4,
 "nbformat_minor": 5
}
