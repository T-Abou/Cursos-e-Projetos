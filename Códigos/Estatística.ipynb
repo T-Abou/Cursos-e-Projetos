{
 "cells": [
  {
   "cell_type": "code",
   "execution_count": null,
   "id": "0f270884-67b1-48e1-8297-55711ffe0bc6",
   "metadata": {},
   "outputs": [],
   "source": [
    "import pandas as pd\n",
    "import matplotlib.pyplot as plt\n",
    "import sympy as sp\n",
    "import numpy as np"
   ]
  },
  {
   "cell_type": "code",
   "execution_count": null,
   "id": "fb89f1f3-1513-471b-b434-c36d06e02429",
   "metadata": {},
   "outputs": [],
   "source": [
    "#Relembrando derivadas e outros codigos"
   ]
  },
  {
   "cell_type": "code",
   "execution_count": null,
   "id": "bf204156-d953-430d-85cc-721e8530894a",
   "metadata": {},
   "outputs": [],
   "source": [
    "#Criando variáveis\n",
    "x = sp.Symbol('x')\n",
    "x"
   ]
  },
  {
   "cell_type": "code",
   "execution_count": null,
   "id": "4fae03df-6f53-40f2-85c7-2ce7fce1b3df",
   "metadata": {},
   "outputs": [],
   "source": [
    "func = 5*x**2+3\n",
    "func"
   ]
  },
  {
   "cell_type": "code",
   "execution_count": null,
   "id": "38b96650-b3cb-4a21-9c57-62502230d0b2",
   "metadata": {},
   "outputs": [],
   "source": [
    "#Obter derivada\n",
    "derivada_func=sp.diff(func)\n",
    "derivada_func"
   ]
  },
  {
   "cell_type": "code",
   "execution_count": null,
   "id": "37fdeeb9-4e20-4d74-b22a-19d6ac4a834e",
   "metadata": {},
   "outputs": [],
   "source": [
    "#Transformar em função de calculo\n",
    "func_calc = sp.lambdify(x,func)\n",
    "func_derivada_calc = sp.lambdify(x,derivada_func)"
   ]
  },
  {
   "cell_type": "code",
   "execution_count": null,
   "id": "75c8fdd7-6c6b-4183-a8b2-542c4795e754",
   "metadata": {},
   "outputs": [],
   "source": [
    "func_calc(2), func_derivada_calc(2)"
   ]
  },
  {
   "cell_type": "code",
   "execution_count": null,
   "id": "92939e09-8be0-4d38-9bf0-03b0b51746fc",
   "metadata": {},
   "outputs": [],
   "source": [
    "#Aplicação de integrais\n",
    "##Obter Integral\n",
    "func"
   ]
  },
  {
   "cell_type": "code",
   "execution_count": null,
   "id": "2f5210a6-a77c-4290-88fc-d8c4942bb293",
   "metadata": {},
   "outputs": [],
   "source": [
    "sp.integrate(func)"
   ]
  },
  {
   "cell_type": "code",
   "execution_count": null,
   "id": "1bb25338-43dd-48de-b5ac-e291e44fd90f",
   "metadata": {},
   "outputs": [],
   "source": [
    "sp.integrate(derivada_func)"
   ]
  },
  {
   "cell_type": "code",
   "execution_count": null,
   "id": "5c9bf61e-9597-439e-a4a9-863099563823",
   "metadata": {},
   "outputs": [],
   "source": [
    "# Exemplo da área\n",
    "## Parametros iniciais\n",
    "espaco_inicial = 0\n",
    "espaco_final = 24\n",
    "numero_retangulos = 8"
   ]
  },
  {
   "cell_type": "code",
   "execution_count": null,
   "id": "2c2da40b-e347-4dec-b667-f6f3affed001",
   "metadata": {},
   "outputs": [],
   "source": [
    "# Criar a base dos retangulos\n",
    "base = (espaco_final - espaco_inicial)/numero_retangulos\n",
    "base"
   ]
  },
  {
   "cell_type": "code",
   "execution_count": null,
   "id": "90ae07da-54e3-4d92-bc98-35eb2ce36d9c",
   "metadata": {},
   "outputs": [],
   "source": [
    "# Criar função\n",
    "funcao = 2*x**2\n",
    "funcao"
   ]
  },
  {
   "cell_type": "code",
   "execution_count": null,
   "id": "ab97c0ae-f059-42ab-996f-f39e34692de9",
   "metadata": {},
   "outputs": [],
   "source": [
    "derivada_funcao = sp.diff(funcao)\n",
    "derivada_funcao"
   ]
  },
  {
   "cell_type": "code",
   "execution_count": null,
   "id": "4091d17f-e500-44fa-adde-70b1e5195078",
   "metadata": {},
   "outputs": [],
   "source": [
    "#criar função para calcular\n",
    "funcao_calc = sp.lambdify(x,funcao)\n",
    "funcao_derivada_calc = sp.lambdify(x,derivada_funcao)"
   ]
  },
  {
   "cell_type": "code",
   "execution_count": null,
   "id": "d4323814-e9c8-4673-8d55-6bb2abf89fc4",
   "metadata": {},
   "outputs": [],
   "source": [
    "#Eixo X\n",
    "eixo_x = np.arange(espaco_inicial,espaco_final + base,base)"
   ]
  },
  {
   "cell_type": "code",
   "execution_count": null,
   "id": "215c3554-58cb-4bad-b34c-ace39dc8035f",
   "metadata": {},
   "outputs": [],
   "source": [
    "#Eixo Y\n",
    "eixo_y = funcao_calc(eixo_x)\n",
    "eixo_y"
   ]
  },
  {
   "cell_type": "code",
   "execution_count": null,
   "id": "4b32ac9d-69f6-40ea-8032-724890d08be3",
   "metadata": {},
   "outputs": [],
   "source": [
    "plt.bar(eixo_x,eixo_y,width =2)\n",
    "plt.plot(eixo_x,eixo_y,'--r')\n",
    "plt.show()"
   ]
  },
  {
   "cell_type": "code",
   "execution_count": null,
   "id": "d3510092-71c9-44b1-b5e2-8f7d56651725",
   "metadata": {},
   "outputs": [],
   "source": [
    "#Obter a área total\n",
    "area_total = sum(eixo_y*base)\n",
    "area_total"
   ]
  },
  {
   "cell_type": "code",
   "execution_count": null,
   "id": "411b3d39-7651-432a-8b23-2f3114b7d378",
   "metadata": {},
   "outputs": [],
   "source": [
    "#Obter integral\n",
    "funcao_integral=sp.integrate(funcao)\n",
    "funcao_integral"
   ]
  },
  {
   "cell_type": "code",
   "execution_count": null,
   "id": "f48b0f40-7d48-41a2-97f4-3a815c6ab4d3",
   "metadata": {},
   "outputs": [],
   "source": [
    "funcao_integral_calc = sp.lambdify(x,funcao_integral)"
   ]
  },
  {
   "cell_type": "code",
   "execution_count": null,
   "id": "e115adef-3e44-41a2-81e2-048ec1cfbc49",
   "metadata": {},
   "outputs": [],
   "source": [
    "#area total\n",
    "A = funcao_integral_calc(espaco_inicial)\n",
    "B = funcao_integral_calc(espaco_final)\n",
    "B-A"
   ]
  },
  {
   "cell_type": "code",
   "execution_count": null,
   "id": "f7a82ba4-a210-4dae-8d7f-88ef3fd5b1d4",
   "metadata": {},
   "outputs": [],
   "source": [
    "# Método 2 \n",
    "sp.integrate(funcao, (x,espaco_inicial, espaco_final))"
   ]
  },
  {
   "cell_type": "code",
   "execution_count": null,
   "id": "af8f4002-5b0c-4f1f-8cfa-8fb4a51fedc1",
   "metadata": {},
   "outputs": [],
   "source": []
  },
  {
   "cell_type": "code",
   "execution_count": null,
   "id": "a7ab40de-7448-4aa4-a94b-4b63408b7f66",
   "metadata": {},
   "outputs": [],
   "source": []
  },
  {
   "cell_type": "code",
   "execution_count": null,
   "id": "d59d65d8-6980-4315-bbc5-75a8837f68af",
   "metadata": {},
   "outputs": [],
   "source": []
  }
 ],
 "metadata": {
  "kernelspec": {
   "display_name": "Python [conda env:anaconda-toolbox]",
   "language": "python",
   "name": "conda-env-anaconda-toolbox-py"
  },
  "language_info": {
   "codemirror_mode": {
    "name": "ipython",
    "version": 3
   },
   "file_extension": ".py",
   "mimetype": "text/x-python",
   "name": "python",
   "nbconvert_exporter": "python",
   "pygments_lexer": "ipython3",
   "version": "3.13.5"
  }
 },
 "nbformat": 4,
 "nbformat_minor": 5
}
